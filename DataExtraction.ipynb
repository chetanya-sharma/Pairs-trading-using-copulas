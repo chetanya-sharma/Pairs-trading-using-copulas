{
 "cells": [
  {
   "cell_type": "code",
   "execution_count": null,
   "metadata": {},
   "outputs": [],
   "source": [
    "pip install yfinance"
   ]
  },
  {
   "cell_type": "code",
   "execution_count": null,
   "metadata": {},
   "outputs": [],
   "source": [
    "import yfinance as yf\n",
    "import pandas as pd"
   ]
  },
  {
   "cell_type": "code",
   "execution_count": null,
   "metadata": {},
   "outputs": [],
   "source": [
    "equity_symbol=pd.read_csv('ind_nifty500list.csv')\n",
    "for symbol in equity_symbol.Symbol:  \n",
    "    symbol=f'{symbol}'\n",
    "    start_date = '2019-01-01'\n",
    "    end_date = '2024-07-05'\n",
    "    data=yf.download(f'{symbol}.NS', start=start_date, end=end_date)\n",
    "    data.to_csv(f'./Stock_Data/{symbol}.csv')"
   ]
  }
 ],
 "metadata": {
  "kernelspec": {
   "display_name": "Python 3",
   "language": "python",
   "name": "python3"
  },
  "language_info": {
   "codemirror_mode": {
    "name": "ipython",
    "version": 3
   },
   "file_extension": ".py",
   "mimetype": "text/x-python",
   "name": "python",
   "nbconvert_exporter": "python",
   "pygments_lexer": "ipython3",
   "version": "3.9.6"
  }
 },
 "nbformat": 4,
 "nbformat_minor": 2
}
