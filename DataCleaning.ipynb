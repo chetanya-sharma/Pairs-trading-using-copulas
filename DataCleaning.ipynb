{
 "cells": [
  {
   "cell_type": "code",
   "execution_count": 52,
   "metadata": {},
   "outputs": [],
   "source": [
    "import os\n",
    "import pandas as pd"
   ]
  },
  {
   "cell_type": "code",
   "execution_count": null,
   "metadata": {},
   "outputs": [],
   "source": [
    "directory='Stock_Data'\n",
    "\n",
    "files=os.listdir(directory)\n",
    "\n",
    "listing_date={}\n",
    "\n",
    "csv_files=[file for file in files if file.endswith('.csv')]\n",
    "\n",
    "for csv_file in csv_files:\n",
    "    file_path=os.path.join(directory,csv_file)\n",
    "\n",
    "    df=pd.read_csv(file_path)\n",
    "    \n",
    "    if df.empty:\n",
    "        print(f\"{csv_file} is empty\")\n",
    "    else:\n",
    "        listing_date[csv_file]=df['Date'].iloc[0]"
   ]
  },
  {
   "cell_type": "code",
   "execution_count": 54,
   "metadata": {},
   "outputs": [],
   "source": [
    "from operator import itemgetter\n",
    "sorted_listing_date={k:v for k, v in sorted(listing_date.items(),key=itemgetter(1),reverse=True)}"
   ]
  },
  {
   "cell_type": "code",
   "execution_count": null,
   "metadata": {},
   "outputs": [],
   "source": [
    "sorted_listing_date"
   ]
  },
  {
   "cell_type": "code",
   "execution_count": 56,
   "metadata": {},
   "outputs": [],
   "source": [
    "# We take '04-07-2019' as the starting date for all the stocks "
   ]
  },
  {
   "cell_type": "code",
   "execution_count": null,
   "metadata": {},
   "outputs": [],
   "source": [
    "from datetime import datetime\n",
    "given_date=datetime.strptime('2019-07-31','%Y-%m-%d')\n",
    "cnt=0\n",
    "for date_str in sorted_listing_date.values():\n",
    "    date=datetime.strptime(date_str,'%Y-%m-%d')\n",
    "    if date<given_date:\n",
    "        cnt+=1\n",
    "\n",
    "print(cnt)"
   ]
  },
  {
   "cell_type": "code",
   "execution_count": 58,
   "metadata": {},
   "outputs": [],
   "source": [
    "# We will manipulate the Stock Data and will leave the Stock Market - Copy data as reference\n",
    "\n",
    "for csv_file in csv_files:\n",
    "    file_path=os.path.join(directory,csv_file)\n",
    "\n",
    "    df=pd.read_csv(file_path)\n",
    "    if df.empty:\n",
    "        os.remove(file_path)\n",
    "    else:    \n",
    "        if datetime.strptime(df['Date'].iloc[0],'%Y-%m-%d')>given_date:\n",
    "            os.remove(file_path)"
   ]
  },
  {
   "cell_type": "code",
   "execution_count": 61,
   "metadata": {},
   "outputs": [],
   "source": [
    "files=os.listdir('Stock_Data')\n",
    "csv_files=[file for file in files if file.endswith('.csv')]\n",
    "for csv_file in csv_files:\n",
    "    file_path=os.path.join(directory,csv_file)\n",
    "\n",
    "    df=pd.read_csv(file_path)\n",
    "\n",
    "    indices_to_drop=[]\n",
    "\n",
    "    for index,row in df.iterrows():\n",
    "        if datetime.strptime(row['Date'],'%Y-%m-%d')<datetime.strptime('2019-07-04','%Y-%m-%d'):\n",
    "            indices_to_drop.append(index)\n",
    "\n",
    "    df.drop(indices_to_drop,inplace=True)\n",
    "\n",
    "    df.to_csv(file_path,index=False)"
   ]
  },
  {
   "cell_type": "code",
   "execution_count": 62,
   "metadata": {},
   "outputs": [],
   "source": [
    "cols_to_clean=['Open','High','Low','Close','Adj Close']\n",
    "\n",
    "def round_to_nearest(x):\n",
    "    return round(x * 20) / 20\n",
    "\n",
    "for csv_file in csv_files:\n",
    "    file_path=os.path.join(directory,csv_file)\n",
    "\n",
    "    df=pd.read_csv(file_path)\n",
    "\n",
    "    for col in cols_to_clean:\n",
    "        df[col]=df[col].round(2)\n",
    "        df[col]=df[col].apply(round_to_nearest)\n",
    "\n",
    "    df.to_csv(file_path,index=False)"
   ]
  },
  {
   "cell_type": "code",
   "execution_count": null,
   "metadata": {},
   "outputs": [],
   "source": [
    "extracted_columns=[]\n",
    "\n",
    "for csv_file in csv_files:\n",
    "    file_path=os.path.join(directory,csv_file)\n",
    "\n",
    "    df=pd.read_csv(file_path)\n",
    "\n",
    "    col='Adj Close'\n",
    "\n",
    "    if col in df.columns:\n",
    "        extracted_columns.append(df[col])\n"
   ]
  },
  {
   "cell_type": "code",
   "execution_count": 66,
   "metadata": {},
   "outputs": [],
   "source": [
    "df1=pd.DataFrame(extracted_columns)\n",
    "df1=df1.T"
   ]
  },
  {
   "cell_type": "code",
   "execution_count": null,
   "metadata": {},
   "outputs": [],
   "source": [
    "stock_names=[]\n",
    "for file in csv_files:\n",
    "    file_name=os.path.splitext(file)[0]\n",
    "    stock_names.append(file_name)\n",
    "\n",
    "df1.columns=stock_names\n",
    "df1"
   ]
  },
  {
   "cell_type": "code",
   "execution_count": 71,
   "metadata": {},
   "outputs": [],
   "source": [
    "for col in df1.columns:\n",
    "    df1[col]=df1[col].pct_change()"
   ]
  },
  {
   "cell_type": "code",
   "execution_count": 77,
   "metadata": {},
   "outputs": [],
   "source": [
    "df1=df1.dropna()"
   ]
  },
  {
   "cell_type": "code",
   "execution_count": 78,
   "metadata": {},
   "outputs": [],
   "source": [
    "df1.to_csv('percentage_change.csv',index=False)"
   ]
  }
 ],
 "metadata": {
  "kernelspec": {
   "display_name": "Python 3",
   "language": "python",
   "name": "python3"
  },
  "language_info": {
   "codemirror_mode": {
    "name": "ipython",
    "version": 3
   },
   "file_extension": ".py",
   "mimetype": "text/x-python",
   "name": "python",
   "nbconvert_exporter": "python",
   "pygments_lexer": "ipython3",
   "version": "3.9.6"
  }
 },
 "nbformat": 4,
 "nbformat_minor": 2
}
